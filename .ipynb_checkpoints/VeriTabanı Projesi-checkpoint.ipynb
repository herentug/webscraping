{
 "cells": [
  {
   "cell_type": "code",
   "execution_count": 100,
   "metadata": {},
   "outputs": [],
   "source": []
  },
  {
   "cell_type": "code",
   "execution_count": 123,
   "metadata": {
    "scrolled": true
   },
   "outputs": [
    {
     "name": "stdout",
     "output_type": "stream",
     "text": [
      "Semt: atasehir Sayfa : 1\n"
     ]
    },
    {
     "ename": "ValueError",
     "evalue": "invalid literal for int() with base 10: '1.521'",
     "output_type": "error",
     "traceback": [
      "\u001b[0;31m---------------------------------------------------------------------------\u001b[0m",
      "\u001b[0;31mValueError\u001b[0m                                Traceback (most recent call last)",
      "\u001b[0;32m<ipython-input-123-0ef65e8e4183>\u001b[0m in \u001b[0;36m<module>\u001b[0;34m()\u001b[0m\n\u001b[1;32m     33\u001b[0m \u001b[0;34m\u001b[0m\u001b[0m\n\u001b[1;32m     34\u001b[0m         \u001b[0mnumberofPost\u001b[0m\u001b[0;34m=\u001b[0m\u001b[0mpage_soup\u001b[0m\u001b[0;34m.\u001b[0m\u001b[0mfindAll\u001b[0m\u001b[0;34m(\u001b[0m\u001b[0;34m\"strong\"\u001b[0m\u001b[0;34m,\u001b[0m\u001b[0;34m{\u001b[0m\u001b[0;34m\"data-ads-count\"\u001b[0m\u001b[0;34m:\u001b[0m\u001b[0;34m\"\"\u001b[0m\u001b[0;34m}\u001b[0m\u001b[0;34m)\u001b[0m\u001b[0;34m\u001b[0m\u001b[0;34m\u001b[0m\u001b[0m\n\u001b[0;32m---> 35\u001b[0;31m         \u001b[0mpage\u001b[0m\u001b[0;34m=\u001b[0m\u001b[0mint\u001b[0m\u001b[0;34m(\u001b[0m\u001b[0mnumberofPost\u001b[0m\u001b[0;34m[\u001b[0m\u001b[0;36m5\u001b[0m\u001b[0;34m]\u001b[0m\u001b[0;34m.\u001b[0m\u001b[0mtext\u001b[0m\u001b[0;34m)\u001b[0m\u001b[0;34m/\u001b[0m\u001b[0;36m20\u001b[0m\u001b[0;34m\u001b[0m\u001b[0;34m\u001b[0m\u001b[0m\n\u001b[0m\u001b[1;32m     36\u001b[0m \u001b[0;34m\u001b[0m\u001b[0m\n\u001b[1;32m     37\u001b[0m         \u001b[0;32mfor\u001b[0m \u001b[0mr\u001b[0m \u001b[0;32min\u001b[0m \u001b[0mrows\u001b[0m\u001b[0;34m:\u001b[0m\u001b[0;34m\u001b[0m\u001b[0;34m\u001b[0m\u001b[0m\n",
      "\u001b[0;31mValueError\u001b[0m: invalid literal for int() with base 10: '1.521'"
     ]
    }
   ],
   "source": [
    "from bs4 import BeautifulSoup as soup  # HTML data structure\n",
    "from urllib import urlopen as uReq  # Web client\n",
    "import csv\n",
    "import pandas as pd\n",
    "\n",
    "semts=[\"atasehir\",\"beykoz\"]\n",
    "#,\"cekmekoy\",\"kadikoy\",\"kartal\",\"kucukcekmece\",\"maltepe\",\"pendik\",\"sancaktepe\",\"sultanbeyli\",\"sile\",\"tuzla\",\"umraniye\",\"uskudar\"]\n",
    "\n",
    "\n",
    "def strToNum(s):\n",
    "    i=s.find('.')\n",
    "    if(i-1):\n",
    "        s=s[0:i] + s[i:-1]\n",
    "    return s\n",
    "for semt in semts:\n",
    "    page_url = \"https://www.hurriyetemlak.com/\"+semt+\"-satilik\"\n",
    "\n",
    "    buildings=[]\n",
    "    count=0\n",
    "    page=2\n",
    "    for page in range(1,page):\n",
    "        pagesUrl=page_url+\"?page=\"+str(page)\n",
    "        print(\"Semt: \"+semt+\" Sayfa : \" + str(page))\n",
    "\n",
    "\n",
    "        # opens the connection and downloads html page from url\n",
    "        uClient = uReq(page_url)\n",
    "\n",
    "        page_soup = soup(uClient.read(), \"html.parser\")\n",
    "        uClient.close()\n",
    "\n",
    "        rows=page_soup.findAll(\"div\",{\"class\":\"list-item timeshare clearfix\"})\n",
    "\n",
    "        numberofPost=page_soup.findAll(\"strong\",{\"data-ads-count\":\"\"})\n",
    "        page=int(numberofPost[5].text)/20\n",
    "\n",
    "        for r in rows:\n",
    "            suburl=\"https://www.hurriyetemlak.com\"+r.a[\"href\"]\n",
    "            count+=1\n",
    "            try:\n",
    "                RuClient= uReq(suburl)\n",
    "            except:\n",
    "                print(\"Processing... \"+ str(count))\n",
    "                continue\n",
    "            page_detail = soup(RuClient.read(),\"html.parser\")\n",
    "            RuClient.close()\n",
    "            \n",
    "            try:\n",
    "                price=page_detail.find(\"li\",{\"class\":\"price-line clearfix\"})\n",
    "                pr = price.span.text\n",
    "                adress=page_detail.find(\"li\",{\"class\":\"address-line\"})\n",
    "                add = adress.span.text\n",
    "                info=dict()\n",
    "                \n",
    "                phones=page_detail.find(\"ul\",{\"class\":\"phone-numbers\"})\n",
    "\n",
    "                info[\"Telefon No\"]=phones.li.a.text\n",
    "\n",
    "                ilanID= page_detail.find(\"li\",{\"class\":\"realty-numb\"})\n",
    "\n",
    "                idModi=ilanID.span.text[8:-1]\n",
    "                info[\"Ilan No\"]=idModi\n",
    "                \n",
    "\n",
    "                info[\"Baslık\"]=page_detail.h1.text\n",
    "                info[\"Fiyat\"]=pr\n",
    "                add=add.replace('\\n','')\n",
    "                v=add.split('/')\n",
    "                info[\"Sehir\"]=v[0]\n",
    "                info[\"Semt\"]=v[1]\n",
    "                info[\"Mahalle\"]=v[2]\n",
    "                infos=page_detail.findAll(\"li\",{\"class\":\"info-line\"})\n",
    "                infoList=infos[0].ul.findAll(\"li\")\n",
    "                for i in range(0,len(infoList)-1):\n",
    "                    rc=infoList[i].findAll(\"span\")\n",
    "                    s=rc[1].text\n",
    "                    if(s[0:5]==\"Uygun\"):\n",
    "                        s=\"Uygun\"\n",
    "                    info[rc[0].text]=s\n",
    "                buildings.append(info)\n",
    "            except:\n",
    "                continue\n",
    "\n",
    "    df=pd.DataFrame.from_records(buildings)\n",
    "    df.to_excel(semt+\".xlsx\",sheet_name=\"Sheet_1\")"
   ]
  },
  {
   "cell_type": "code",
   "execution_count": 124,
   "metadata": {},
   "outputs": [],
   "source": [
    "strToNum(\"1.612\")"
   ]
  },
  {
   "cell_type": "code",
   "execution_count": null,
   "metadata": {},
   "outputs": [],
   "source": []
  }
 ],
 "metadata": {
  "kernelspec": {
   "display_name": "Python 2",
   "language": "python",
   "name": "python2"
  },
  "language_info": {
   "codemirror_mode": {
    "name": "ipython",
    "version": 2
   },
   "file_extension": ".py",
   "mimetype": "text/x-python",
   "name": "python",
   "nbconvert_exporter": "python",
   "pygments_lexer": "ipython2",
   "version": "2.7.15+"
  }
 },
 "nbformat": 4,
 "nbformat_minor": 2
}
